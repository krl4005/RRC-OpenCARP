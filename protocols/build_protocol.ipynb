{
 "cells": [
  {
   "cell_type": "code",
   "execution_count": 1,
   "metadata": {},
   "outputs": [],
   "source": [
    "# Create a bench protocol\n",
    "import numpy as np\n",
    "def create_bench_protocol(cl, stim_length, stim, stims = None, prepace = None, filename = './protocol'):\n",
    "    \n",
    "    sim_duration = (3*(len(stims)+1))*cl\n",
    "    if prepace is not None:\n",
    "        print('Run for ', (prepace*cl)+sim_duration, 's')\n",
    "        aps = list(range(0, (prepace*cl)+sim_duration, cl))\n",
    "        if stims is not None:\n",
    "            rrc_aps = list(range((prepace*cl)+(3*cl), (prepace*cl)+sim_duration, 3*cl))\n",
    "    else:\n",
    "        print('Run for ', sim_duration, 's')\n",
    "        aps = list(range(0, sim_duration, cl))\n",
    "        if stims is not None:\n",
    "            rrc_aps = list(range(3*cl, sim_duration, 3*cl))\n",
    "\n",
    "    time_vals = []\n",
    "    stim_vals = []\n",
    "    add_times = [stim_length, stim_length+0.1, cl-1]\n",
    "    add_stims = [stim, 0, 0]\n",
    "    add_rrc_times = [stim_length, stim_length+0.1, stim_length+5, stim_length+5.1, cl-1]\n",
    "\n",
    "    for ap in aps:\n",
    "        time_vals.append(ap)\n",
    "        stim_vals.append(stim)\n",
    "        if stims is not None:\n",
    "            if ap in rrc_aps:\n",
    "                for i in list(range(0, len(add_rrc_times))):\n",
    "                    time_vals.append(ap+add_rrc_times[i])\n",
    "                    if i < len(add_stims):\n",
    "                        stim_vals.append(add_stims[i])\n",
    "                    else:\n",
    "                        for ii in list(range(0, len(stims))):\n",
    "                            if ap == rrc_aps[ii]:\n",
    "                                stim_vals.append(stims[ii])\n",
    "            else:\n",
    "                for i in list(range(0, len(add_times))):\n",
    "                    time_vals.append(ap+add_times[i])\n",
    "                    stim_vals.append(add_stims[i])\n",
    "        else:\n",
    "            for i in list(range(0, len(add_times))):\n",
    "                time_vals.append(ap+add_times[i])\n",
    "                stim_vals.append(add_stims[i])\n",
    "\n",
    "    with open(filename, 'w') as f:\n",
    "        f.write(str(len(time_vals)))\n",
    "        f.write('\\n')\n",
    "        for i in list(range(0, len(time_vals))):\n",
    "            f.write(str(time_vals[i]))\n",
    "            f.write(' ')\n",
    "            f.write(str(stim_vals[i]))\n",
    "            f.write('\\n')"
   ]
  },
  {
   "cell_type": "code",
   "execution_count": 5,
   "metadata": {},
   "outputs": [
    {
     "name": "stdout",
     "output_type": "stream",
     "text": [
      "Run for  18000 s\n"
     ]
    }
   ],
   "source": [
    "# Create protocol for Grandi model with prepacing\n",
    "cl = 1000\n",
    "stim_length = 5\n",
    "stim = 9.5\n",
    "stims =  [0.25, 0.3, 0.35, 0.4, 0.45]\n",
    "prepace = None\n",
    "\n",
    "create_bench_protocol(cl, stim_length, stim, stims = stims, prepace = prepace, filename='./stims_grandi.dat')"
   ]
  },
  {
   "cell_type": "code",
   "execution_count": 33,
   "metadata": {},
   "outputs": [
    {
     "name": "stdout",
     "output_type": "stream",
     "text": [
      "Run for  618000 s\n",
      "Run for  18000 s\n"
     ]
    }
   ],
   "source": [
    "# Create protocol for Shannon model with and without prepacing\n",
    "cl = 1000\n",
    "stim_length = 5\n",
    "stim = 9.5\n",
    "stims = [0.7, 0.73, 0.75, 0.78, 0.8]\n",
    "prepace = 600\n",
    "create_bench_protocol(cl, stim_length, stim, stims = stims, prepace = prepace, filename='./stims_shannon_600_prepace.dat')\n",
    "\n",
    "prepace = None\n",
    "create_bench_protocol(cl, stim_length, stim, stims = stims, prepace = prepace, filename='./stims_shannon.dat')"
   ]
  },
  {
   "cell_type": "code",
   "execution_count": 41,
   "metadata": {},
   "outputs": [
    {
     "name": "stdout",
     "output_type": "stream",
     "text": [
      "Run for  18000 s\n"
     ]
    }
   ],
   "source": [
    "# Create protocol for Ohara with cl=2000\n",
    "cl = 1000\n",
    "stim_length = 0.5\n",
    "stim = 80\n",
    "stims = [0.7, 0.71, 0.72, 0.73, 0.74]\n",
    "#prepace = 600\n",
    "#create_bench_protocol(cl, stim_length, stim, stims = stims, prepace = prepace, filename='./stims_ohara_cl2000_prepace600.dat')\n",
    "\n",
    "prepace = None\n",
    "create_bench_protocol(cl, stim_length, stim, stims = stims, prepace = prepace, filename='./stims_ohara.dat')"
   ]
  }
 ],
 "metadata": {
  "kernelspec": {
   "display_name": "Python 3",
   "language": "python",
   "name": "python3"
  },
  "language_info": {
   "codemirror_mode": {
    "name": "ipython",
    "version": 3
   },
   "file_extension": ".py",
   "mimetype": "text/x-python",
   "name": "python",
   "nbconvert_exporter": "python",
   "pygments_lexer": "ipython3",
   "version": "3.9.13"
  },
  "orig_nbformat": 4
 },
 "nbformat": 4,
 "nbformat_minor": 2
}
